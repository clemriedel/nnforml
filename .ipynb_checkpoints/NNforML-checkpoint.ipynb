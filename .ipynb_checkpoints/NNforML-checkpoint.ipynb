{
 "metadata": {
  "name": "",
  "signature": "sha256:6cb5142ad8eec0b2a4b9eb351ab085e218e43e906f8a169fabaa5d3a7a7d1d36"
 },
 "nbformat": 3,
 "nbformat_minor": 0,
 "worksheets": [
  {
   "cells": [
    {
     "cell_type": "markdown",
     "metadata": {},
     "source": [
      "# Neural Networks for Machine Learning - Community Class\n",
      "Wed 5-7pm from Oct 8 to Nov 26 @ D-Lab\n",
      "\n"
     ]
    },
    {
     "cell_type": "markdown",
     "metadata": {},
     "source": [
      "## Introduction\n",
      "\n",
      "\n",
      "The principle of the community class is the following: every one learn, every one teach. The class is 'Neural Networks for Machine Learning'; contents will be mainly inspired by the  <a href=\"https://class.coursera.org/neuralnets-2012-001/class\">Coursera Online class</a>.\n",
      "\n",
      "Note: The class is offically off. We will only use the videos and quizz as a support and you won't be able to get a coursera certificate. \n",
      "\n",
      "We meet every Wednesday at the D-Lab from 5pm to 7pm (October 8 - November 26) to teach the material of the class.\n",
      "\n"
     ]
    },
    {
     "cell_type": "markdown",
     "metadata": {},
     "source": [
      "\n",
      "## Week 1 (October 8): \n",
      "####Introduction & The Perceptron learning procedure\n",
      "\n",
      "Teacher: Clement Riedel"
     ]
    },
    {
     "cell_type": "markdown",
     "metadata": {},
     "source": [
      "## Week 2 (October 15): \n",
      "####The backpropagation learning proccedure & Learning feature vectors for words\n",
      "Teacher: \n"
     ]
    },
    {
     "cell_type": "markdown",
     "metadata": {},
     "source": [
      "## Week 3 (October 22): \n",
      "####Object recognition with neural nets & Optimization: How to make the learning go faster\n",
      "Teacher:"
     ]
    },
    {
     "cell_type": "markdown",
     "metadata": {},
     "source": [
      "## Week 4 (October 29):\n",
      "####  Recurrent neural networks & More recurrent neural networks\n",
      "Teacher: Clement Riedel"
     ]
    },
    {
     "cell_type": "markdown",
     "metadata": {},
     "source": [
      "## Week 5 (November 5):\n",
      "#### Ways to make neural networks generalize better & Combining multiple neural networks to improve generalization\n",
      "Teacher:"
     ]
    },
    {
     "cell_type": "markdown",
     "metadata": {},
     "source": [
      "## Week 6 (November 12):\n",
      "#### Hopfield nets and Boltzmann machines & Restricted Boltzmann machines (RBMs)\n",
      "Teacher:\n",
      "\n"
     ]
    },
    {
     "cell_type": "markdown",
     "metadata": {},
     "source": [
      "## Week 7 (November 19):\n",
      "#### Stacking RBMs to make Deep Belief Nets & Deep neural nets with generative pre-training\n",
      "Teacher: Dave Clark"
     ]
    },
    {
     "cell_type": "markdown",
     "metadata": {},
     "source": [
      "## Week 8 (November 27):\n",
      "\n",
      "#### Modeling hierarchical structure with neural nets & Recent applications of deep neural nets\n",
      "Teacher:"
     ]
    }
   ],
   "metadata": {}
  }
 ]
}